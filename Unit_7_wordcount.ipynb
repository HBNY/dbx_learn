{
  "nbformat": 4,
  "nbformat_minor": 0,
  "metadata": {
    "colab": {
      "provenance": [],
      "include_colab_link": true
    },
    "kernelspec": {
      "name": "python3",
      "display_name": "Python 3"
    },
    "language_info": {
      "name": "python"
    }
  },
  "cells": [
    {
      "cell_type": "markdown",
      "metadata": {
        "id": "view-in-github",
        "colab_type": "text"
      },
      "source": [
        "<a href=\"https://colab.research.google.com/github/HBNY/dbx_learn/blob/main/Unit_7_wordcount.ipynb\" target=\"_parent\"><img src=\"https://colab.research.google.com/assets/colab-badge.svg\" alt=\"Open In Colab\"/></a>"
      ]
    },
    {
      "cell_type": "code",
      "source": [
        "# wordcount.ipynb notebook\n",
        "# UMGC DATA 625 Week 7 Word Counting Script\n",
        "#\n",
        "# Script to ask user for input file name, read the input file,\n",
        "# remove punctuation and any numeric digits.\n",
        "# Scrubs to lower case.\n",
        "# Counts resulting words and writes the results to a .csv file.\n",
        "#\n",
        "# Input file:  .txt file named by the user\n",
        "# Output file .csv file with \"-output.csv\" appended to back of it\n",
        "\n",
        "def wordcount():\n",
        "    name = input('Enter file name : ')\n",
        "    alph = 'abcdefghijklmnopqrstuvwxyzABCDEFGHIJKLMNOPQRSTUVWXYZ'\n",
        "    list_words = []\n",
        "    result = {}\n",
        "\n",
        "    try:\n",
        "        # read the file\n",
        "        with open(name, 'r') as handle:\n",
        "            for line in handle:\n",
        "                for ele in line:\n",
        "                    if (ele not in alph) and ele != ' ':\n",
        "                        # to remove all punctuation\n",
        "                        line = line.replace(ele, \"\")\n",
        "                    if ele.isdigit():  # checking element is a digit or not\n",
        "                        line = line.replace(ele, \"\")\n",
        "                line = line.lower()\n",
        "                list_words.extend(line.split())\n",
        "\n",
        "        # Count word occurrences\n",
        "        for word in list_words:\n",
        "            result[word] = result.get(word, 0) + 1\n",
        "\n",
        "        # Determine the output file name based on the input file name\n",
        "        output_file_name = name.split('.')[0] + '-output.csv'\n",
        "\n",
        "        # Sort results by count in descending order and then alphabetically\n",
        "        sorted_results = sorted(result.items(), key=lambda x: (-x[1], x[0]))\n",
        "\n",
        "        # Write the results to the output CSV file\n",
        "        with open(output_file_name, 'w') as outfile:\n",
        "            outfile.write(\"Word,Count\\n\")\n",
        "            for word, count in sorted_results:\n",
        "                outfile.write(f\"{word},{count}\\n\")\n",
        "\n",
        "        print(\"Your results have been written to a file named \" + output_file_name)\n",
        "        return\n",
        "\n",
        "    except FileNotFoundError:\n",
        "        print(\"File not found. Please check the file name.\")\n",
        "\n",
        "wordcount()\n"
      ],
      "metadata": {
        "colab": {
          "base_uri": "https://localhost:8080/"
        },
        "outputId": "8b4a9a11-0b13-4d73-f79e-f7f199362fdd",
        "id": "bMh73yAwuecH"
      },
      "execution_count": 12,
      "outputs": [
        {
          "output_type": "stream",
          "name": "stdout",
          "text": [
            "Enter file name : test 5 austen.txt\n",
            "Your results have been written to a file named test 5 austen-output.csv\n"
          ]
        }
      ]
    }
  ]
}